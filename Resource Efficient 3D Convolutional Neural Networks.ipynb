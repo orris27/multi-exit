{
 "cells": [
  {
   "cell_type": "markdown",
   "metadata": {},
   "source": [
    "# Resource Efficient 3D Convolutional Neural Networks\n"
   ]
  },
  {
   "cell_type": "markdown",
   "metadata": {},
   "source": [
    "Extend 2D resouce efficient architectures:\n",
    "+ SqueezeNet: Use pointwise group convolutions and channel shuffle. Fire block\n",
    "    - Replace 3x3 filters with 1x1 filters\n",
    "    - Decrease the number of input channels to 3x3 filters\n",
    "    - Downsample late in the network so that convolution layers have large activation maps\n",
    "+ MobileNet: Depthwise separable convolutions. Use between 8 to 9 less parameters and computations than standard CNN\n",
    "+ ShuffleNet\n",
    "    - group convolution\n",
    "    - pointwise group convolution\n",
    "    - channel shuffle\n",
    "+ MobileNetV2\n",
    "    - reverted bottleneck block\n",
    "    - Linear Bottlenecks between the layers\n",
    "    - Shortcut connections between the bottlenecks\n",
    "+ ShuffleNetV2\n",
    "    - channel split operator\n",
    "\n",
    "Group convolution + Depthwise separable convolution\n",
    "\n",
    "Manupulate kernels to build a small network.\n",
    "\n",
    "How does it manupulate kernels?\n",
    "\n",
    "\n",
    "**Input**: a clip of 16 frames with spatial resolution of 112 pixels.\n",
    "\n",
    "1st convolution applys stride of $(1, 2, 2)$."
   ]
  },
  {
   "cell_type": "markdown",
   "metadata": {},
   "source": [
    "### MobileNet\n",
    "#### Separable Convolution\n",
    "See [here](https://towardsdatascience.com/a-basic-introduction-to-separable-convolutions-b99ec3102728) for more information.\n",
    "\n",
    "\n",
    "##### 1. Spatial separable convolution\n",
    "Split a kernel into two kernels and convolve the input tensor with each kernel to reduce the computation. For example:\n",
    "<img src=\"https://miro.medium.com/max/1419/1*mL53fW0tJpNWEePp54y1Sg.png\" width=\"350\"/>\n",
    "<img src=\"https://miro.medium.com/max/1548/1*o3mKhG3nHS-1dWa_plCeFw.png\" width=\"350\"/>\n",
    "\n",
    "Disadvantages:\n",
    "+ Not all kernels can be splited into two more kernels\n",
    "\n",
    "##### 2. Depthwise separable convolution\n",
    "Split normal convolution into depthwise convolution and pointwise convolution. The depthwise convolution convolves the input 3D tensor with $C_I$ 2D matrix kernels to obtain a single output 3D tensor. The pointwise convolution further convolves the $1$ output 3D tensor with $C_O$ 2D matrix 1x1 kernels to obtain $C_O$ output 3D tensors.\n",
    "\n",
    "The advantages of 1x1 kernels utilized by pointwise convolution are:\n",
    "+ Apply non-linearlity. Expand the possibilities for the model.\n",
    "+ Increase or decrease the number of channels\n",
    "\n",
    "\n",
    "\n",
    "An illustration for depthwise convolution is:\n",
    "<img src=\"https://miro.medium.com/max/1635/1*yG6z6ESzsRW-9q5F_neOsg.png\" width=\"350\"/>\n",
    "An illustration for depthwise convolution is:\n",
    "<img src=\"https://miro.medium.com/max/1528/1*37sVdBZZ9VK50pcAklh8AQ.png\" width=\"350\"/>\n",
    "\n",
    "A numerical example of depthwise separable convolution is:\n",
    "+ original convolution: 12x12x3 - (5x5x3x256) -> 8x8x256\n",
    "+ depthwise separable convolution: 12x12x3 - (5x5x1x3) -> 8x8x3 - (1x1x3x256) -> 8x8x256\n",
    "\n",
    "\n",
    "\n",
    "\n"
   ]
  },
  {
   "cell_type": "markdown",
   "metadata": {},
   "source": [
    "#### Statements\n",
    "+ Optical flow modality increases the complexity. The authors utilize RGB modality."
   ]
  }
 ],
 "metadata": {
  "kernelspec": {
   "display_name": "Python 3",
   "language": "python",
   "name": "python3"
  },
  "language_info": {
   "codemirror_mode": {
    "name": "ipython",
    "version": 3
   },
   "file_extension": ".py",
   "mimetype": "text/x-python",
   "name": "python",
   "nbconvert_exporter": "python",
   "pygments_lexer": "ipython3",
   "version": "3.6.4"
  }
 },
 "nbformat": 4,
 "nbformat_minor": 2
}
