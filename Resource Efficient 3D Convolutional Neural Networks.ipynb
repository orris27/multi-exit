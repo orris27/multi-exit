{
 "cells": [
  {
   "cell_type": "markdown",
   "metadata": {},
   "source": [
    "# Resource Efficient 3D Convolutional Neural Networks\n"
   ]
  },
  {
   "cell_type": "markdown",
   "metadata": {},
   "source": [
    "Extend 2D resouce efficient architectures:\n",
    "+ SqueezeNet: Use pointwise group convolutions and channel shuffle. Fire block\n",
    "    - Replace 3x3 filters with 1x1 filters\n",
    "    - Decrease the number of input channels to 3x3 filters\n",
    "    - Downsample late in the network so that convolution layers have large activation maps\n",
    "+ MobileNet: Depthwise separable convolutions. Use between 8 to 9 less parameters and computations than standard CNN\n",
    "+ ShuffleNet\n",
    "    - group convolution\n",
    "    - pointwise group convolution\n",
    "    - channel shuffle\n",
    "+ MobileNetV2\n",
    "    - reverted bottleneck block\n",
    "    - Linear Bottlenecks between the layers\n",
    "    - Shortcut connections between the bottlenecks\n",
    "+ ShuffleNetV2\n",
    "    - channel split operator\n",
    "\n",
    "Group convolution + Depthwise separable convolution\n",
    "\n",
    "Manupulate kernels to build a small network.\n",
    "\n",
    "How does it manupulate kernels?\n",
    "\n",
    "\n",
    "**Input**: a clip of 16 frames with spatial resolution of 112 pixels.\n",
    "\n",
    "1st convolution applys stride of $(1, 2, 2)$."
   ]
  },
  {
   "cell_type": "markdown",
   "metadata": {},
   "source": [
    "\n",
    "\n"
   ]
  },
  {
   "cell_type": "markdown",
   "metadata": {},
   "source": [
    "#### Statements\n",
    "+ Optical flow modality increases the complexity. The authors utilize RGB modality."
   ]
  }
 ],
 "metadata": {
  "kernelspec": {
   "display_name": "Python 3",
   "language": "python",
   "name": "python3"
  },
  "language_info": {
   "codemirror_mode": {
    "name": "ipython",
    "version": 3
   },
   "file_extension": ".py",
   "mimetype": "text/x-python",
   "name": "python",
   "nbconvert_exporter": "python",
   "pygments_lexer": "ipython3",
   "version": "3.6.4"
  }
 },
 "nbformat": 4,
 "nbformat_minor": 2
}
