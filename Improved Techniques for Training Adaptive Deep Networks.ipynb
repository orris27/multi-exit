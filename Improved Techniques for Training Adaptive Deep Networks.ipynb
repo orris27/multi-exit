{
 "cells": [
  {
   "cell_type": "markdown",
   "metadata": {},
   "source": [
    "## Improved Techniques for Training Adaptive Deep Networks"
   ]
  },
  {
   "cell_type": "markdown",
   "metadata": {},
   "source": [
    "### Related Work\n",
    "#### Adaptive Inference\n",
    "save computation on \"easy\" samples\n",
    "\n",
    "Approach:\n",
    "learn adaptive network topology selection policies\n",
    "\n",
    "#### Knowledge Distillation\n",
    "Outputs from teach network are utilized to supervise the training of the student network\n",
    "\n",
    "### Contributions\n",
    "+ gradient equilibrium: resolve the gradients conflict of different classifiers\n",
    "+ inline subnetwork collaboration & one-for-all knowledge distillation: enhance the collaboration among classifiers\n",
    "\n",
    "\n",
    "#### 1. gradient equilibrium\n",
    "Weighted cumulative loss function may lead to a gradient imblance issue due to the overlap of the network. The gradients of overlapping networks will become very large, because their gradients come from all exiting points behind them\n",
    "\n",
    "\n",
    "#### 2. Collaboration\n",
    "In previous works, they treat multiple classifiers independently, expecting that their losses are simply summed up during training process.\n",
    "+ Add a connection from $i$-th classifier to $i+1$-th classifier in forward process, but ignore the gradients in backward process (to prevent the early classiifers being influenced by the latter ones)\n",
    "+ We use logits of $i$-th classifier as the knowledge to facilitate the learning of its subsequent classifier\n",
    "+ The loss function of $i$-th classifier consists of cross-entropy loss and the alignment of soft class probabilities between the teacher and student models using the Kullback Leibler divergence."
   ]
  }
 ],
 "metadata": {
  "kernelspec": {
   "display_name": "Python 3",
   "language": "python",
   "name": "python3"
  },
  "language_info": {
   "codemirror_mode": {
    "name": "ipython",
    "version": 3
   },
   "file_extension": ".py",
   "mimetype": "text/x-python",
   "name": "python",
   "nbconvert_exporter": "python",
   "pygments_lexer": "ipython3",
   "version": "3.6.4"
  }
 },
 "nbformat": 4,
 "nbformat_minor": 2
}
