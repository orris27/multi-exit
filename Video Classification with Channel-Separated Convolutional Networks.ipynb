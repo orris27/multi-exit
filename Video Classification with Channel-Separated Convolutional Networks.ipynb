{
 "cells": [
  {
   "cell_type": "markdown",
   "metadata": {},
   "source": [
    "## Video Classification with Channel-Separated Convolutional Networks\n",
    "\n",
    "If group convolution help to alleviate the computational cost?\n",
    "\n",
    "Kernel factorization => factor 3D convolution\n",
    "+ 3D convolution = 2D convolution in space + 1D convolution in time\n",
    "\n",
    "2D depthwise separable convolution saves roughly $k^2$ FLOPs, and if we can extend it to 3D convolution, it can save roughly $k^3$ FLOPs. The authors select $3\\times 3\\times 3$ depthwise convolution followed by $1\\times 1\\times 1$ pointwise convolution.\n",
    "\n",
    "The channel separation in CSN regularizes the model and prevents overfitting.\n",
    "\n",
    "The authors propose that channel interaction is important if we want to balance accuracy and computational cost.\n",
    "\n",
    "#### Amount of Channel Interation\n",
    "The authors quantify the amount of channel interation as the number of pairs of two input channels that are connected through any output filter.\n",
    "\n",
    "For instance, if we use group convolution with $G$ group, the amount of channel interation for each filter is $\\begin{pmatrix}\\frac{C_I}{G}\\\\2\\end{pmatrix}$, where $\\begin{pmatrix}n\\\\2\\end{pmatrix} = \\frac{n (n-1)}{2}$, $C_I$ is the number of input channels.\n",
    "\n",
    "\n",
    "#### Channel-Separated Bottleneck Block\n",
    "+ Interaction-preserved channel-separated bottleneck block: channel interation is preserved by the $1\\times 1\\times 1$ convolution\n",
    "+ Interaction-reduced channel-separated bottleneck block: no $1\\times 1\\times 1$ convolution\n",
    "\n",
    "\n",
    "#### Ablation Experiment\n",
    "+ Similar depth and similar amount of channel interation implies similar accuracy\n",
    "+ $3\\times 3\\times 3$ convolutions causes overfitting for deep networks.\n",
    "\n",
    "#### Group Convolution\n",
    "Filters in group convolution are divided into several groups and each group convolves only with a subset input channels of input tensor. If we divide filters into $G$ group, then each group receives input fraction $\\frac{1}{G}$ of the channels from the previous layer. \n",
    "\n",
    "\n",
    "For instance, in normal convolution, if we have a $28\\times 28\\times 256$ input tensor and a filter of size $3\\times 3\\times 256$, we obtain an output tensor of size $26\\times 26\\times 1$. However, in group convolution, the first $128$ channel in filter might be convolves with the firste $128$ input channel in input tensor, and the other parts of them convolves in the last $128$ channel. We get an output tensor of size $26\\times 26\\times 2$.\n",
    "\n",
    "+ Group convolution with $G$ group reduces computational cost by a factor of $G$\n",
    "+ Restricts channel interation. Only channels in the same group are interacted with each other.\n",
    "+ Depthwise convolution is the extreme version of group convolution\n",
    "\n"
   ]
  },
  {
   "cell_type": "markdown",
   "metadata": {},
   "source": [
    "### My puzzles\n",
    "1. Why does the depthwise separable convolution in this paper present $1\\times 1\\times 1$ pointwise convolution before depthwise convolution?"
   ]
  }
 ],
 "metadata": {
  "kernelspec": {
   "display_name": "Python 3",
   "language": "python",
   "name": "python3"
  },
  "language_info": {
   "codemirror_mode": {
    "name": "ipython",
    "version": 3
   },
   "file_extension": ".py",
   "mimetype": "text/x-python",
   "name": "python",
   "nbconvert_exporter": "python",
   "pygments_lexer": "ipython3",
   "version": "3.6.4"
  }
 },
 "nbformat": 4,
 "nbformat_minor": 2
}
