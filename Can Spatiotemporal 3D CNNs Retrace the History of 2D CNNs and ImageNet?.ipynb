{
 "cells": [
  {
   "cell_type": "markdown",
   "metadata": {},
   "source": [
    "## Can Spatiotemporal 3D CNNs Retrace the History of 2D CNNs and ImageNet?"
   ]
  },
  {
   "cell_type": "markdown",
   "metadata": {},
   "source": [
    "#### Statements\n",
    "+ 3D CNN performs worse than 2D CNN based methods because the video datasets are too small to train an immense number of parameters.\n",
    "+ ResNet-18 training results in significant overfitting for UCF-101, HMDB-51 and ActivityNet but not for Kinetics. The reason is that the training loss on UCF-101, HMDB-51 and ActivityNet is clearly higher than validation loss, but not on Kinetics.\n",
    "+ ResNet-152 achieve significant improvement of accuracies compared with ResNet-18, meaning that Kinetics has the sufficient data to train ResNet-152. ResNet-200 does not achieve significant improvement over ResNet-152, which means that ResNet-200 starts to overfit.\n",
    "+ Kinetics pretrained simple 3D architectures outperforms complex 2D architectures\n",
    "+ C3D has been seen as a standard for 3D CNNs. The authors of C3D experimentally found that a $3 \\times 3 \\times 3$ convolutional kernel achieved the best performance level.\n",
    "+ 3D convolution can directly extract spatio-temporal features from raw videos"
   ]
  }
 ],
 "metadata": {
  "kernelspec": {
   "display_name": "Python 3",
   "language": "python",
   "name": "python3"
  },
  "language_info": {
   "codemirror_mode": {
    "name": "ipython",
    "version": 3
   },
   "file_extension": ".py",
   "mimetype": "text/x-python",
   "name": "python",
   "nbconvert_exporter": "python",
   "pygments_lexer": "ipython3",
   "version": "3.6.4"
  }
 },
 "nbformat": 4,
 "nbformat_minor": 2
}
