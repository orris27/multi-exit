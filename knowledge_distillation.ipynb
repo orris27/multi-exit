{
 "cells": [
  {
   "cell_type": "markdown",
   "metadata": {},
   "source": [
    "## Knowledge Distillation\n",
    "Pretrain a teacher model and utilize its logits to supervise the learning of student model."
   ]
  },
  {
   "cell_type": "markdown",
   "metadata": {},
   "source": [
    "### Loss Function\n",
    "\n",
    "$$\n",
    "\\text{KLDivLoss}(p, q) = \\sum_i{p_i \\log{ \\frac{p_i}{q_i} }} \\\\\n",
    "\\text{kd_loss} =\\alpha T^2  \\text{KLDivLoss}(\\text{SM}(\\frac{z}{T}), \\text{SM}(\\frac{\\tilde{z}}{T})) + (1 - \\alpha)\\text{CE}(z, \\hat{y})\n",
    "$$\n",
    "where $z$ is predicted logits without softmax, $\\hat{y}$ is real label, $\\tilde{z}$ is teacher logits without softmax, $\\text{CE}$ is cross entropy, $\\text{SM} is softmax$, $T$ is temparature (e.g. 20), $\\alpha$ is also a hyperparameter (e.g. 0.9)\n",
    "\n",
    "\n",
    "#### Why Kullback-Leibler divergency?\n",
    "+ Its value shows the distance between two *distributions*. The target of knowledge distillation is to make the output logits of distilled model similar to that of teacher models. Therefore, we minimize their distribution distance instead of classification error."
   ]
  }
 ],
 "metadata": {
  "kernelspec": {
   "display_name": "Python 3",
   "language": "python",
   "name": "python3"
  },
  "language_info": {
   "codemirror_mode": {
    "name": "ipython",
    "version": 3
   },
   "file_extension": ".py",
   "mimetype": "text/x-python",
   "name": "python",
   "nbconvert_exporter": "python",
   "pygments_lexer": "ipython3",
   "version": "3.5.2"
  }
 },
 "nbformat": 4,
 "nbformat_minor": 2
}
